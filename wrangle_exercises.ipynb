{
 "cells": [
  {
   "cell_type": "markdown",
   "id": "c72b373b-5fec-48c9-8c84-64667f698db6",
   "metadata": {},
   "source": [
    "# Spark Wrangle Exercises\n",
    "These exercises should go in a notebook or script named wrangle. Add, commit, and push your changes.\n",
    "\n",
    "This exercises uses the case.csv, dept.csv, and source.csv files from the san antonio 311 call dataset.\n",
    "\n",
    "1. Read the case, department, and source data into their own spark dataframes.\n",
    "\n",
    "2. Let's see how writing to the local disk works in spark:\n",
    "\n",
    "    - Write the code necessary to store the source data in both csv and json format, store these as sources_csv and sources_json\n",
    "    - Inspect your folder structure. What do you notice?\n",
    "        - There's a new folder for each json created\n",
    "        - each has a number of JSON files in it. I was unable to open any of them\n",
    "        - Seems like there's also a file that says SUCCESS perhaps indicating the process was completed\n",
    "        \n",
    "3. Inspect the data in your dataframes. Are the data types appropriate? Write the code necessary to cast the values to the appropriate types.\n",
    "    - You might have noticed that the latest date in the dataset is fairly far off from the present day. To account for this, replace any occurances of the current time with the maximum date from the dataset.\n"
   ]
  },
  {
   "cell_type": "code",
   "execution_count": 1,
   "id": "fa126450-8fd8-4e48-86eb-7cc89541d179",
   "metadata": {},
   "outputs": [],
   "source": [
    "from pyspark.sql import SparkSession\n",
    "from pyspark.sql.functions import *\n",
    "from pyspark.sql.types import StructType, StructField, StringType\n",
    "\n",
    "spark = SparkSession.builder.getOrCreate()"
   ]
  },
  {
   "cell_type": "code",
   "execution_count": 2,
   "id": "ed361558-e49c-40be-83ce-9bf734384f90",
   "metadata": {},
   "outputs": [],
   "source": [
    "schema = StructType(\n",
    "    [\n",
    "        StructField(\"source_id\", StringType()),\n",
    "        StructField(\"source_username\", StringType()),\n",
    "    ]\n",
    ")\n",
    "# Read csv, but now we specify the schema:\n",
    "\n",
    "source = spark.read.csv(\"source.csv\", header=True, schema=schema)"
   ]
  },
  {
   "cell_type": "code",
   "execution_count": 3,
   "id": "fc958dfd-f7ec-4a0f-8680-3225047daab1",
   "metadata": {},
   "outputs": [],
   "source": [
    "# write data to a destination using .write property\n",
    "\n",
    "source.write.json(\"source_json\", mode=\"overwrite\")"
   ]
  },
  {
   "cell_type": "code",
   "execution_count": 4,
   "id": "553c9977-24d2-4ee3-a967-3b3868e76123",
   "metadata": {},
   "outputs": [],
   "source": [
    "# read in case csv\n",
    "case = spark.read.csv(\"case.csv\", header=True, inferSchema=True)\n"
   ]
  },
  {
   "cell_type": "code",
   "execution_count": 5,
   "id": "25ffa629-655d-4a01-b49e-08fa4278d812",
   "metadata": {},
   "outputs": [],
   "source": [
    "case.write.json('case_json', mode = 'overwrite')"
   ]
  },
  {
   "cell_type": "code",
   "execution_count": 6,
   "id": "ce98c8cf-80ca-4553-a74d-fbf48faee79b",
   "metadata": {},
   "outputs": [],
   "source": [
    "# read in dept csv\n",
    "\n",
    "dept = spark.read.csv('dept.csv', header=True, inferSchema=True)"
   ]
  },
  {
   "cell_type": "code",
   "execution_count": 7,
   "id": "de52111f-b8c1-4133-b478-49d0332aaf36",
   "metadata": {},
   "outputs": [],
   "source": [
    "dept.write.json('dept_json', mode = 'overwrite')"
   ]
  },
  {
   "cell_type": "code",
   "execution_count": 8,
   "id": "83ca7681-978b-498d-9635-b88cc79926f1",
   "metadata": {},
   "outputs": [
    {
     "data": {
      "text/plain": [
       "[('source_id', 'string'), ('source_username', 'string')]"
      ]
     },
     "execution_count": 8,
     "metadata": {},
     "output_type": "execute_result"
    }
   ],
   "source": [
    "# source seems good to go\n",
    "source.dtypes"
   ]
  },
  {
   "cell_type": "code",
   "execution_count": 9,
   "id": "b90515ea-c95f-4c69-8eaa-2661d047739c",
   "metadata": {},
   "outputs": [
    {
     "data": {
      "text/plain": [
       "[('case_id', 'int'),\n",
       " ('case_opened_date', 'string'),\n",
       " ('case_closed_date', 'string'),\n",
       " ('SLA_due_date', 'string'),\n",
       " ('case_late', 'string'),\n",
       " ('num_days_late', 'double'),\n",
       " ('case_closed', 'string'),\n",
       " ('dept_division', 'string'),\n",
       " ('service_request_type', 'string'),\n",
       " ('SLA_days', 'double'),\n",
       " ('case_status', 'string'),\n",
       " ('source_id', 'string'),\n",
       " ('request_address', 'string'),\n",
       " ('council_district', 'int')]"
      ]
     },
     "execution_count": 9,
     "metadata": {},
     "output_type": "execute_result"
    }
   ],
   "source": [
    "case.dtypes"
   ]
  },
  {
   "cell_type": "markdown",
   "id": "fc16bc6b-10fc-434e-9cea-124ff5f9f73f",
   "metadata": {},
   "source": [
    "Need to:\n",
    "- change all dates to datetimes\n",
    "    - convert any present day dates to max date in dataset\n",
    "- change case late to bool\n",
    "- change case closed to bool\n",
    "- change council address to string"
   ]
  },
  {
   "cell_type": "code",
   "execution_count": 10,
   "id": "3f6733c7-8eb1-4b34-bb05-876bb1666a0c",
   "metadata": {},
   "outputs": [
    {
     "data": {
      "text/plain": [
       "[('dept_division', 'string'),\n",
       " ('dept_name', 'string'),\n",
       " ('standardized_dept_name', 'string'),\n",
       " ('dept_subject_to_SLA', 'string')]"
      ]
     },
     "execution_count": 10,
     "metadata": {},
     "output_type": "execute_result"
    }
   ],
   "source": [
    "dept.dtypes"
   ]
  },
  {
   "cell_type": "markdown",
   "id": "0c5c4f88-5cea-428b-9150-59108971b3d3",
   "metadata": {},
   "source": [
    "Need to\n",
    "- get rid of dept_name, keep standardized dept name"
   ]
  },
  {
   "cell_type": "code",
   "execution_count": 11,
   "id": "a050063a-63d8-4a7f-8242-e9ed95108a88",
   "metadata": {},
   "outputs": [
    {
     "name": "stdout",
     "output_type": "stream",
     "text": [
      "-RECORD 0-----------------------------------------------------\n",
      " case_id              | 1014127332                            \n",
      " case_opened_date     | 1/1/18 0:42                           \n",
      " case_closed_date     | 1/1/18 12:29                          \n",
      " SLA_due_date         | 9/26/20 0:42                          \n",
      " case_late            | NO                                    \n",
      " num_days_late        | -998.5087616000001                    \n",
      " case_closed          | YES                                   \n",
      " dept_division        | Field Operations                      \n",
      " service_request_type | Stray Animal                          \n",
      " SLA_days             | 999.0                                 \n",
      " case_status          | Closed                                \n",
      " source_id            | svcCRMLS                              \n",
      " request_address      | 2315  EL PASO ST, San Antonio, 78207  \n",
      " council_district     | 5                                     \n",
      "-RECORD 1-----------------------------------------------------\n",
      " case_id              | 1014127333                            \n",
      " case_opened_date     | 1/1/18 0:46                           \n",
      " case_closed_date     | 1/3/18 8:11                           \n",
      " SLA_due_date         | 1/5/18 8:30                           \n",
      " case_late            | NO                                    \n",
      " num_days_late        | -2.0126041669999997                   \n",
      " case_closed          | YES                                   \n",
      " dept_division        | Storm Water                           \n",
      " service_request_type | Removal Of Obstruction                \n",
      " SLA_days             | 4.322222222                           \n",
      " case_status          | Closed                                \n",
      " source_id            | svcCRMSS                              \n",
      " request_address      | 2215  GOLIAD RD, San Antonio, 78223   \n",
      " council_district     | 3                                     \n",
      "-RECORD 2-----------------------------------------------------\n",
      " case_id              | 1014127334                            \n",
      " case_opened_date     | 1/1/18 0:48                           \n",
      " case_closed_date     | 1/2/18 7:57                           \n",
      " SLA_due_date         | 1/5/18 8:30                           \n",
      " case_late            | NO                                    \n",
      " num_days_late        | -3.022337963                          \n",
      " case_closed          | YES                                   \n",
      " dept_division        | Storm Water                           \n",
      " service_request_type | Removal Of Obstruction                \n",
      " SLA_days             | 4.320729167                           \n",
      " case_status          | Closed                                \n",
      " source_id            | svcCRMSS                              \n",
      " request_address      | 102  PALFREY ST W, San Antonio, 78223 \n",
      " council_district     | 3                                     \n",
      "only showing top 3 rows\n",
      "\n"
     ]
    }
   ],
   "source": [
    "# look at first three records\n",
    "case.show(3, truncate=False, vertical = True)"
   ]
  },
  {
   "cell_type": "code",
   "execution_count": 12,
   "id": "f092fdb0-77f0-4fff-8dc8-2a93abfdba0a",
   "metadata": {},
   "outputs": [],
   "source": [
    "# Rename 'SLA_due_date' to 'case_due_date' using .withColumnRenamed\n",
    "\n",
    "case = case.withColumnRenamed('SLA_due_date', 'case_due_date')\n"
   ]
  },
  {
   "cell_type": "code",
   "execution_count": 13,
   "id": "11e0db07-17b0-4493-95b7-722f0e2b7d5f",
   "metadata": {},
   "outputs": [
    {
     "name": "stdout",
     "output_type": "stream",
     "text": [
      "+-----------+---------+\n",
      "|case_closed|case_late|\n",
      "+-----------+---------+\n",
      "|        YES|       NO|\n",
      "|        YES|       NO|\n",
      "|        YES|       NO|\n",
      "|        YES|       NO|\n",
      "|        YES|      YES|\n",
      "+-----------+---------+\n",
      "only showing top 5 rows\n",
      "\n"
     ]
    }
   ],
   "source": [
    "# correct data types: case_closed and case_late to boolean from Yes and No\n",
    "\n",
    "case.select(\"case_closed\", \"case_late\").show(5)"
   ]
  },
  {
   "cell_type": "code",
   "execution_count": 14,
   "id": "8d1eb93f-3ffa-4e34-8a5a-fc96f1d67d03",
   "metadata": {},
   "outputs": [],
   "source": [
    "# use .withColumn to change columns from string to boolean values\n",
    "\n",
    "case = case.withColumn('case_closed', expr('case_closed == \"YES\"'))\\\n",
    ".withColumn('case_late', expr('case_late == \"YES\"'))"
   ]
  },
  {
   "cell_type": "code",
   "execution_count": 15,
   "id": "08d66688-d178-4c92-ab48-3d744b125144",
   "metadata": {},
   "outputs": [
    {
     "name": "stdout",
     "output_type": "stream",
     "text": [
      "+-----------+---------+\n",
      "|case_closed|case_late|\n",
      "+-----------+---------+\n",
      "|       true|    false|\n",
      "|       true|    false|\n",
      "|       true|    false|\n",
      "|       true|    false|\n",
      "|       true|     true|\n",
      "+-----------+---------+\n",
      "only showing top 5 rows\n",
      "\n"
     ]
    }
   ],
   "source": [
    "case.select(\"case_closed\", \"case_late\").show(5)"
   ]
  },
  {
   "cell_type": "code",
   "execution_count": 16,
   "id": "f3cc17d3-79d4-488b-b7e7-0bcb6ee64a93",
   "metadata": {},
   "outputs": [],
   "source": [
    "# council_district as a string instead of int\n",
    "case = case.withColumn('council_district', col('council_district').cast('string'))"
   ]
  },
  {
   "cell_type": "code",
   "execution_count": 17,
   "id": "e84f5854-9107-4903-96d3-00ecd9250e2e",
   "metadata": {},
   "outputs": [
    {
     "name": "stdout",
     "output_type": "stream",
     "text": [
      "+----------------+\n",
      "|council_district|\n",
      "+----------------+\n",
      "|               5|\n",
      "|               3|\n",
      "|               3|\n",
      "|               3|\n",
      "+----------------+\n",
      "only showing top 4 rows\n",
      "\n"
     ]
    }
   ],
   "source": [
    "# view the column\n",
    "\n",
    "case.select('council_district').show(4)"
   ]
  },
  {
   "cell_type": "code",
   "execution_count": 18,
   "id": "ab7e9965-5183-428a-abef-ce7710f679fa",
   "metadata": {},
   "outputs": [
    {
     "name": "stdout",
     "output_type": "stream",
     "text": [
      "+----------------+----------------+-------------+\n",
      "|case_opened_date|case_closed_date|case_due_date|\n",
      "+----------------+----------------+-------------+\n",
      "|     1/1/18 0:42|    1/1/18 12:29| 9/26/20 0:42|\n",
      "|     1/1/18 0:46|     1/3/18 8:11|  1/5/18 8:30|\n",
      "|     1/1/18 0:48|     1/2/18 7:57|  1/5/18 8:30|\n",
      "|     1/1/18 1:29|     1/2/18 8:13| 1/17/18 8:30|\n",
      "|     1/1/18 1:34|    1/1/18 13:29|  1/1/18 4:34|\n",
      "+----------------+----------------+-------------+\n",
      "only showing top 5 rows\n",
      "\n"
     ]
    }
   ],
   "source": [
    "# convert case_opened_date, case_closed_date and case_due_date to datetime format\n",
    "\n",
    "case.select('case_opened_date', 'case_closed_date', 'case_due_date').show(5)\n"
   ]
  },
  {
   "cell_type": "code",
   "execution_count": 19,
   "id": "ca153076-4e5f-4d2c-b076-6b3b9f9611ba",
   "metadata": {},
   "outputs": [],
   "source": [
    "# to_timestamp, fmt\n",
    "\n",
    "# set up a format \n",
    "fmt = \"M/d/yy H:mm\"\n",
    "\n",
    "case = case.withColumn('case_opened_date', to_timestamp('case_opened_date', fmt))\\\n",
    ".withColumn('case_closed_date', to_timestamp('case_closed_date', fmt))\\\n",
    ".withColumn('case_due_date', to_timestamp('case_due_date', fmt))\n"
   ]
  },
  {
   "cell_type": "code",
   "execution_count": 20,
   "id": "5cd6341e-8d21-4f08-b177-febc4b4443f4",
   "metadata": {},
   "outputs": [
    {
     "name": "stdout",
     "output_type": "stream",
     "text": [
      "+-------------------+-------------------+-------------------+\n",
      "|   case_opened_date|   case_closed_date|      case_due_date|\n",
      "+-------------------+-------------------+-------------------+\n",
      "|2018-01-01 00:42:00|2018-01-01 12:29:00|2020-09-26 00:42:00|\n",
      "|2018-01-01 00:46:00|2018-01-03 08:11:00|2018-01-05 08:30:00|\n",
      "|2018-01-01 00:48:00|2018-01-02 07:57:00|2018-01-05 08:30:00|\n",
      "|2018-01-01 01:29:00|2018-01-02 08:13:00|2018-01-17 08:30:00|\n",
      "|2018-01-01 01:34:00|2018-01-01 13:29:00|2018-01-01 04:34:00|\n",
      "+-------------------+-------------------+-------------------+\n",
      "only showing top 5 rows\n",
      "\n"
     ]
    }
   ],
   "source": [
    "# check the three columns again\n",
    "\n",
    "case.select('case_opened_date', 'case_closed_date', 'case_due_date').show(5)"
   ]
  },
  {
   "cell_type": "code",
   "execution_count": 21,
   "id": "9941f0af-c9eb-43f4-a87b-14d645af6ffa",
   "metadata": {},
   "outputs": [
    {
     "name": "stdout",
     "output_type": "stream",
     "text": [
      "+-------------------------------------+\n",
      "|request_address                      |\n",
      "+-------------------------------------+\n",
      "|2315  el paso st, san antonio, 78207 |\n",
      "|2215  goliad rd, san antonio, 78223  |\n",
      "|102  palfrey st w, san antonio, 78223|\n",
      "|114  la garde st, san antonio, 78223 |\n",
      "|734  clearview dr, san antonio, 78228|\n",
      "+-------------------------------------+\n",
      "only showing top 5 rows\n",
      "\n"
     ]
    }
   ],
   "source": [
    "# lowercase and trim whitespace of address\n",
    "\n",
    "case = case.withColumn('request_address', trim(lower(case.request_address)))\n",
    "\n",
    "case.select('request_address').show(5, truncate = False)"
   ]
  },
  {
   "cell_type": "code",
   "execution_count": 22,
   "id": "37b91cc2-c68a-4e25-b9d0-2d3d8a8a4f2d",
   "metadata": {},
   "outputs": [
    {
     "name": "stdout",
     "output_type": "stream",
     "text": [
      "+-------+\n",
      "|zipcode|\n",
      "+-------+\n",
      "|  78207|\n",
      "|  78223|\n",
      "|  78223|\n",
      "|  78223|\n",
      "|  78228|\n",
      "+-------+\n",
      "only showing top 5 rows\n",
      "\n"
     ]
    }
   ],
   "source": [
    "# create a new column for zipcode:\n",
    "\n",
    "case = case.withColumn('zipcode', regexp_extract('request_address', r\"(\\d+$)\", 1))\n",
    "\n",
    "case.select('zipcode').show(5)"
   ]
  },
  {
   "cell_type": "code",
   "execution_count": 23,
   "id": "a434e6ad-eeda-4645-b30e-2b0a805814fb",
   "metadata": {},
   "outputs": [
    {
     "name": "stdout",
     "output_type": "stream",
     "text": [
      "+-------------------+\n",
      "| max(case_due_date)|\n",
      "+-------------------+\n",
      "|2022-05-27 15:07:00|\n",
      "+-------------------+\n",
      "\n"
     ]
    }
   ],
   "source": [
    "case.select('case_due_date').agg(max('case_due_date')).show(10)"
   ]
  },
  {
   "cell_type": "code",
   "execution_count": 24,
   "id": "159a7e63-af39-4bf0-b170-3aaf95582d32",
   "metadata": {},
   "outputs": [
    {
     "name": "stdout",
     "output_type": "stream",
     "text": [
      "+-------------------+-------------------+-----------+--------------------------------------+\n",
      "|case_due_date      |case_opened_date   |case_status|service_request_type                  |\n",
      "+-------------------+-------------------+-----------+--------------------------------------+\n",
      "|2022-05-27 15:07:00|2018-07-27 15:07:00|Open       |Signal Timing Modification By Engineer|\n",
      "|2022-05-25 15:42:00|2018-07-25 15:42:00|Open       |Signal Timing Modification By Engineer|\n",
      "|2022-05-24 10:01:00|2018-07-24 10:01:00|Open       |Engineering Design                    |\n",
      "|2022-04-20 10:43:00|2018-06-19 10:43:00|Open       |Signal Timing Modification By Engineer|\n",
      "|2022-02-24 08:30:00|2018-04-22 20:27:00|Open       |Signal Timing Modification By Engineer|\n",
      "|2022-02-15 11:07:00|2018-04-12 11:07:00|Open       |Signal Timing Modification By Engineer|\n",
      "|2022-02-03 08:30:00|2018-04-01 12:28:00|Open       |Signal Timing Modification By Engineer|\n",
      "|2021-12-22 16:59:00|2018-02-16 16:59:00|Open       |Signal Timing Modification By Engineer|\n",
      "|2021-12-22 16:42:00|2018-02-16 16:42:00|Open       |Signal Timing Modification By Engineer|\n",
      "|2021-11-25 08:30:00|2018-01-19 17:07:00|Open       |Signal Timing Modification By Engineer|\n",
      "+-------------------+-------------------+-----------+--------------------------------------+\n",
      "only showing top 10 rows\n",
      "\n"
     ]
    }
   ],
   "source": [
    "# looking at dates to see if there's any past present day\n",
    "\n",
    "case.select('case_due_date', 'case_opened_date' ,'case_status', 'service_request_type').sort(desc('case_due_date')).show(10, truncate = False)\n"
   ]
  },
  {
   "cell_type": "code",
   "execution_count": 25,
   "id": "b4ac019f-a7a9-4d47-b6c6-1dd896157e07",
   "metadata": {},
   "outputs": [],
   "source": [
    "# create three new columns 'case_age', 'days_to_closed', 'case_lifetime'\n",
    "\n",
    "case = (\n",
    "    case.withColumn(\n",
    "        \"case_age\", datediff(current_timestamp(), \"case_opened_date\")\n",
    "    )\n",
    "    .withColumn(\n",
    "        \"days_to_closed\", datediff(\"case_closed_date\", \"case_opened_date\")\n",
    "    )\n",
    "    .withColumn(\n",
    "        \"case_lifetime\",\n",
    "        when(expr(\"! case_closed\"), col(\"case_age\")).otherwise(\n",
    "            col(\"days_to_closed\")\n",
    "        ),\n",
    "    )\n",
    ")"
   ]
  },
  {
   "cell_type": "code",
   "execution_count": 26,
   "id": "9e2bad3d-0963-4634-9ac0-b64d85487ebe",
   "metadata": {},
   "outputs": [
    {
     "name": "stdout",
     "output_type": "stream",
     "text": [
      "-RECORD 0-----------------------------------------------------\n",
      " case_id              | 1014127332                            \n",
      " case_opened_date     | 2018-01-01 00:42:00                   \n",
      " case_closed_date     | 2018-01-01 12:29:00                   \n",
      " case_due_date        | 2020-09-26 00:42:00                   \n",
      " case_late            | false                                 \n",
      " num_days_late        | -998.5087616000001                    \n",
      " case_closed          | true                                  \n",
      " dept_division        | Field Operations                      \n",
      " service_request_type | Stray Animal                          \n",
      " SLA_days             | 999.0                                 \n",
      " case_status          | Closed                                \n",
      " source_id            | svcCRMLS                              \n",
      " request_address      | 2315  el paso st, san antonio, 78207  \n",
      " council_district     | 5                                     \n",
      " zipcode              | 78207                                 \n",
      " case_age             | 1313                                  \n",
      " days_to_closed       | 0                                     \n",
      " case_lifetime        | 0                                     \n",
      "-RECORD 1-----------------------------------------------------\n",
      " case_id              | 1014127333                            \n",
      " case_opened_date     | 2018-01-01 00:46:00                   \n",
      " case_closed_date     | 2018-01-03 08:11:00                   \n",
      " case_due_date        | 2018-01-05 08:30:00                   \n",
      " case_late            | false                                 \n",
      " num_days_late        | -2.0126041669999997                   \n",
      " case_closed          | true                                  \n",
      " dept_division        | Storm Water                           \n",
      " service_request_type | Removal Of Obstruction                \n",
      " SLA_days             | 4.322222222                           \n",
      " case_status          | Closed                                \n",
      " source_id            | svcCRMSS                              \n",
      " request_address      | 2215  goliad rd, san antonio, 78223   \n",
      " council_district     | 3                                     \n",
      " zipcode              | 78223                                 \n",
      " case_age             | 1313                                  \n",
      " days_to_closed       | 2                                     \n",
      " case_lifetime        | 2                                     \n",
      "-RECORD 2-----------------------------------------------------\n",
      " case_id              | 1014127334                            \n",
      " case_opened_date     | 2018-01-01 00:48:00                   \n",
      " case_closed_date     | 2018-01-02 07:57:00                   \n",
      " case_due_date        | 2018-01-05 08:30:00                   \n",
      " case_late            | false                                 \n",
      " num_days_late        | -3.022337963                          \n",
      " case_closed          | true                                  \n",
      " dept_division        | Storm Water                           \n",
      " service_request_type | Removal Of Obstruction                \n",
      " SLA_days             | 4.320729167                           \n",
      " case_status          | Closed                                \n",
      " source_id            | svcCRMSS                              \n",
      " request_address      | 102  palfrey st w, san antonio, 78223 \n",
      " council_district     | 3                                     \n",
      " zipcode              | 78223                                 \n",
      " case_age             | 1313                                  \n",
      " days_to_closed       | 1                                     \n",
      " case_lifetime        | 1                                     \n",
      "only showing top 3 rows\n",
      "\n"
     ]
    }
   ],
   "source": [
    "case.show(3, truncate = False, vertical = True)"
   ]
  },
  {
   "cell_type": "markdown",
   "id": "e4959317-0d15-4139-9490-e97373705650",
   "metadata": {},
   "source": [
    "### 1. How old is the latest (in terms of days past SLA) currently open issue? How long has the oldest (in terms of days since opened) currently opened issue been open?\n",
    "-  The oldest case in terms of days past SLA is 1419 days old\n",
    "\n",
    "- Cases that have been open the longest have been open for 1678 days"
   ]
  },
  {
   "cell_type": "markdown",
   "id": "143515cc-a196-433f-9f7b-070b655f22ad",
   "metadata": {},
   "source": [
    "SLA days is due_date - start_date"
   ]
  },
  {
   "cell_type": "code",
   "execution_count": 107,
   "id": "b5676853-42f4-47f8-a83c-e6c3c9a183ad",
   "metadata": {},
   "outputs": [
    {
     "name": "stdout",
     "output_type": "stream",
     "text": [
      "+-----------+-----------+--------+-------------------+-------------------+----------------+\n",
      "|   SLA_days|case_status|case_age|      case_due_date|   case_opened_date|case_closed_date|\n",
      "+-----------+-----------+--------+-------------------+-------------------+----------------+\n",
      "| 1419.00191|       Open|    1414|2021-08-11 08:30:00|2017-09-22 08:27:00|            null|\n",
      "|     1419.0|       Open|    1372|2021-09-22 14:05:00|2017-11-03 14:05:00|            null|\n",
      "|1416.063981|       Open|    1354|2021-10-07 08:30:00|2017-11-21 06:57:00|            null|\n",
      "|1414.813009|       Open|    1342|2021-10-18 08:30:00|2017-12-03 12:59:00|            null|\n",
      "|1406.003623|       Open|    1673|2020-11-12 08:30:00|2017-01-06 08:24:00|            null|\n",
      "|     1406.0|       Open|    1673|2020-11-12 10:23:00|2017-01-06 10:23:00|            null|\n",
      "|     1406.0|       Open|    1673|2020-11-12 08:41:00|2017-01-06 08:41:00|            null|\n",
      "|     1406.0|       Open|    1673|2020-11-12 10:21:00|2017-01-06 10:21:00|            null|\n",
      "|     1406.0|       Open|    1673|2020-11-12 10:21:00|2017-01-06 10:21:00|            null|\n",
      "|     1406.0|       Open|    1673|2020-11-12 10:20:00|2017-01-06 10:20:00|            null|\n",
      "+-----------+-----------+--------+-------------------+-------------------+----------------+\n",
      "only showing top 10 rows\n",
      "\n"
     ]
    }
   ],
   "source": [
    "case.filter(col('case_status') == 'Open')\\\n",
    ".select('SLA_days', 'case_status', 'case_age', 'case_due_date', 'case_opened_date', 'case_closed_date').sort(desc('SLA_days')).show(10)"
   ]
  },
  {
   "cell_type": "code",
   "execution_count": 28,
   "id": "14f4e2dc-5091-424a-8a77-210084bab33b",
   "metadata": {},
   "outputs": [
    {
     "name": "stdout",
     "output_type": "stream",
     "text": [
      "+-----------+-----------+--------+-------------------+-------------------+----------------+\n",
      "|   SLA_days|case_status|case_age|      case_due_date|   case_opened_date|case_closed_date|\n",
      "+-----------+-----------+--------+-------------------+-------------------+----------------+\n",
      "|15.77859954|       Open|    1678|2017-01-17 08:30:00|2017-01-01 13:48:00|            null|\n",
      "|15.77247685|       Open|    1678|2017-01-17 08:30:00|2017-01-01 13:57:00|            null|\n",
      "|       15.0|       Open|    1677|2017-01-17 11:26:00|2017-01-02 11:26:00|            null|\n",
      "|       15.0|       Open|    1676|2017-01-18 10:01:00|2017-01-03 10:01:00|            null|\n",
      "|      128.0|       Open|    1675|2017-05-12 14:55:00|2017-01-04 14:55:00|            null|\n",
      "|      128.0|       Open|    1675|2017-05-12 12:19:00|2017-01-04 12:19:00|            null|\n",
      "|      128.0|       Open|    1675|2017-05-12 15:02:00|2017-01-04 15:02:00|            null|\n",
      "|      128.0|       Open|    1675|2017-05-12 10:56:00|2017-01-04 10:56:00|            null|\n",
      "|      128.0|       Open|    1675|2017-05-12 10:16:00|2017-01-04 10:16:00|            null|\n",
      "|      128.0|       Open|    1675|2017-05-12 14:52:00|2017-01-04 14:52:00|            null|\n",
      "+-----------+-----------+--------+-------------------+-------------------+----------------+\n",
      "only showing top 10 rows\n",
      "\n"
     ]
    }
   ],
   "source": [
    "case.filter(col('case_status') == 'Open')\\\n",
    ".select('SLA_days', 'case_status', 'case_age', 'case_due_date', 'case_opened_date', 'case_closed_date').sort(desc('case_age')).show(10)"
   ]
  },
  {
   "cell_type": "markdown",
   "id": "8f3e1e34-9d40-46cc-9205-018e6134a27a",
   "metadata": {},
   "source": [
    "### 2. How many Stray Animal cases are there?\n",
    "- 26760"
   ]
  },
  {
   "cell_type": "code",
   "execution_count": 29,
   "id": "b0a3f356-a470-4028-9260-48105e456c8f",
   "metadata": {},
   "outputs": [
    {
     "data": {
      "text/plain": [
       "26760"
      ]
     },
     "execution_count": 29,
     "metadata": {},
     "output_type": "execute_result"
    }
   ],
   "source": [
    "case[case.service_request_type == 'Stray Animal'].count()"
   ]
  },
  {
   "cell_type": "markdown",
   "id": "9be9a177-30cb-4190-99da-691f00f0cf72",
   "metadata": {},
   "source": [
    "### 3. How many service requests that are assigned to the Field Operations department (dept_division) are not classified as \"Officer Standby\" request type (service_request_type)?\n",
    "\n",
    "- 116915 are not classified as Officer Standby\n"
   ]
  },
  {
   "cell_type": "code",
   "execution_count": 30,
   "id": "da51d208-a4ff-427f-89fe-f23daf4357dc",
   "metadata": {},
   "outputs": [
    {
     "name": "stdout",
     "output_type": "stream",
     "text": [
      "+-------------------------------+-----+\n",
      "|service_request_type           |count|\n",
      "+-------------------------------+-----+\n",
      "|Animal Permits Request         |3026 |\n",
      "|Injured Animal(Critical)       |9633 |\n",
      "|Officer Standby                |3013 |\n",
      "|Animal Bite(Non-Critical)      |4750 |\n",
      "|Stray Animal                   |26760|\n",
      "|Trapped/Confined Animal        |11354|\n",
      "|City Council Animal Request    |365  |\n",
      "|Aggressive Animal(Non-Critical)|24882|\n",
      "|Animal Bite(Critical)          |708  |\n",
      "|Public Nuisance(Own Animal)    |10715|\n",
      "|Aggressive Animal(Critical)    |5266 |\n",
      "|Animal Cruelty(Critical)       |3001 |\n",
      "|Spay/Neuter Request Response   |1    |\n",
      "|Animal Neglect                 |13441|\n",
      "+-------------------------------+-----+\n",
      "\n"
     ]
    }
   ],
   "source": [
    "case[case.dept_division == 'Field Operations'].groupby('service_request_type').count().show(truncate = False)"
   ]
  },
  {
   "cell_type": "markdown",
   "id": "c2e3d4c7-316a-474f-baee-9b23e0705826",
   "metadata": {},
   "source": [
    "Looks like a bunch of them arent classified as Officer Standby"
   ]
  },
  {
   "cell_type": "code",
   "execution_count": 31,
   "id": "5d157a5c-3b25-43d4-ab7a-8f293171b00b",
   "metadata": {},
   "outputs": [
    {
     "data": {
      "text/plain": [
       "116915"
      ]
     },
     "execution_count": 31,
     "metadata": {},
     "output_type": "execute_result"
    }
   ],
   "source": [
    "case[case.dept_division == 'Field Operations'].select(col('service_request_type') != 'Officer Standby').count()"
   ]
  },
  {
   "cell_type": "markdown",
   "id": "47922f42-96dc-44fb-8005-00714599db79",
   "metadata": {},
   "source": [
    "### 4. Convert the council_district column to a string column.\n",
    "\n"
   ]
  },
  {
   "cell_type": "code",
   "execution_count": 32,
   "id": "500024c0-fab8-4ca5-b69a-18e647e706fa",
   "metadata": {},
   "outputs": [],
   "source": [
    "# use format_string function to pad zeros for council_district\n",
    "\n",
    "case = case.withColumn('council_district', format_string('%03d', col('council_district').cast('int')))"
   ]
  },
  {
   "cell_type": "code",
   "execution_count": 33,
   "id": "dae8e4e8-6292-4698-bd8f-f3b3725b7374",
   "metadata": {},
   "outputs": [
    {
     "name": "stdout",
     "output_type": "stream",
     "text": [
      "+----------------+\n",
      "|council_district|\n",
      "+----------------+\n",
      "|             005|\n",
      "|             003|\n",
      "|             003|\n",
      "|             003|\n",
      "|             007|\n",
      "+----------------+\n",
      "only showing top 5 rows\n",
      "\n"
     ]
    }
   ],
   "source": [
    "case.select('council_district').show(5)"
   ]
  },
  {
   "cell_type": "markdown",
   "id": "e4cc50a7-2ad4-4261-b5d8-172ffe42f15c",
   "metadata": {},
   "source": [
    "5. Extract the year from the case_closed_date column.\n",
    "\n"
   ]
  },
  {
   "cell_type": "code",
   "execution_count": 34,
   "id": "dd618b12-6ea7-4fa6-a04e-99dd020c6d20",
   "metadata": {},
   "outputs": [
    {
     "name": "stdout",
     "output_type": "stream",
     "text": [
      "+----------------------+\n",
      "|year(case_closed_date)|\n",
      "+----------------------+\n",
      "|                  2018|\n",
      "|                  2018|\n",
      "|                  2018|\n",
      "|                  2018|\n",
      "|                  2018|\n",
      "|                  2018|\n",
      "|                  2018|\n",
      "|                  2018|\n",
      "|                  2018|\n",
      "|                  2018|\n",
      "+----------------------+\n",
      "only showing top 10 rows\n",
      "\n"
     ]
    }
   ],
   "source": [
    "case.select(year('case_closed_date')).show(10)"
   ]
  },
  {
   "cell_type": "markdown",
   "id": "7f663e30-f3bb-4817-b56d-ac2ed81b2018",
   "metadata": {},
   "source": [
    "### 6. Convert num_days_late from days to hours in new columns num_hours_late.\n",
    "\n"
   ]
  },
  {
   "cell_type": "code",
   "execution_count": 35,
   "id": "ab998d36-3256-4635-bb3f-999481f82348",
   "metadata": {},
   "outputs": [
    {
     "name": "stdout",
     "output_type": "stream",
     "text": [
      "+-------------------+-------------------+\n",
      "|      num_days_late|     num_hours_late|\n",
      "+-------------------+-------------------+\n",
      "| -998.5087616000001|     -23964.2102784|\n",
      "|-2.0126041669999997|-48.302500007999996|\n",
      "|       -3.022337963|      -72.536111112|\n",
      "|       -15.01148148|      -360.27555552|\n",
      "|0.37216435200000003|  8.931944448000001|\n",
      "|       -29.74398148| -713.8555555199999|\n",
      "|       -14.70673611|      -352.96166664|\n",
      "|       -14.70662037|      -352.95888888|\n",
      "|       -14.70662037|      -352.95888888|\n",
      "|       -14.70649306|      -352.95583344|\n",
      "+-------------------+-------------------+\n",
      "only showing top 10 rows\n",
      "\n"
     ]
    }
   ],
   "source": [
    "case.withColumn('num_hours_late', expr('num_days_late * 24')).select('num_days_late', 'num_hours_late').show(10)"
   ]
  },
  {
   "cell_type": "code",
   "execution_count": 39,
   "id": "2d429c7d-801a-4000-b618-9d9698dbbbc1",
   "metadata": {},
   "outputs": [],
   "source": [
    "# reassign case variable with num_hours_kate\n",
    "case = case.withColumn('num_hours_late', expr('num_days_late * 24')).select('*')"
   ]
  },
  {
   "cell_type": "code",
   "execution_count": 40,
   "id": "3491b2ed-7e72-420e-8ae9-19d77610a35e",
   "metadata": {},
   "outputs": [
    {
     "name": "stdout",
     "output_type": "stream",
     "text": [
      "-RECORD 0-----------------------------------------------------\n",
      " case_id              | 1014127332                            \n",
      " case_opened_date     | 2018-01-01 00:42:00                   \n",
      " case_closed_date     | 2018-01-01 12:29:00                   \n",
      " case_due_date        | 2020-09-26 00:42:00                   \n",
      " case_late            | false                                 \n",
      " num_days_late        | -998.5087616000001                    \n",
      " case_closed          | true                                  \n",
      " dept_division        | Field Operations                      \n",
      " service_request_type | Stray Animal                          \n",
      " SLA_days             | 999.0                                 \n",
      " case_status          | Closed                                \n",
      " source_id            | svcCRMLS                              \n",
      " request_address      | 2315  el paso st, san antonio, 78207  \n",
      " council_district     | 005                                   \n",
      " zipcode              | 78207                                 \n",
      " case_age             | 1313                                  \n",
      " days_to_closed       | 0                                     \n",
      " case_lifetime        | 0                                     \n",
      " num_hours_late       | -23964.2102784                        \n",
      "-RECORD 1-----------------------------------------------------\n",
      " case_id              | 1014127333                            \n",
      " case_opened_date     | 2018-01-01 00:46:00                   \n",
      " case_closed_date     | 2018-01-03 08:11:00                   \n",
      " case_due_date        | 2018-01-05 08:30:00                   \n",
      " case_late            | false                                 \n",
      " num_days_late        | -2.0126041669999997                   \n",
      " case_closed          | true                                  \n",
      " dept_division        | Storm Water                           \n",
      " service_request_type | Removal Of Obstruction                \n",
      " SLA_days             | 4.322222222                           \n",
      " case_status          | Closed                                \n",
      " source_id            | svcCRMSS                              \n",
      " request_address      | 2215  goliad rd, san antonio, 78223   \n",
      " council_district     | 003                                   \n",
      " zipcode              | 78223                                 \n",
      " case_age             | 1313                                  \n",
      " days_to_closed       | 2                                     \n",
      " case_lifetime        | 2                                     \n",
      " num_hours_late       | -48.302500007999996                   \n",
      "-RECORD 2-----------------------------------------------------\n",
      " case_id              | 1014127334                            \n",
      " case_opened_date     | 2018-01-01 00:48:00                   \n",
      " case_closed_date     | 2018-01-02 07:57:00                   \n",
      " case_due_date        | 2018-01-05 08:30:00                   \n",
      " case_late            | false                                 \n",
      " num_days_late        | -3.022337963                          \n",
      " case_closed          | true                                  \n",
      " dept_division        | Storm Water                           \n",
      " service_request_type | Removal Of Obstruction                \n",
      " SLA_days             | 4.320729167                           \n",
      " case_status          | Closed                                \n",
      " source_id            | svcCRMSS                              \n",
      " request_address      | 102  palfrey st w, san antonio, 78223 \n",
      " council_district     | 003                                   \n",
      " zipcode              | 78223                                 \n",
      " case_age             | 1313                                  \n",
      " days_to_closed       | 1                                     \n",
      " case_lifetime        | 1                                     \n",
      " num_hours_late       | -72.536111112                         \n",
      "only showing top 3 rows\n",
      "\n"
     ]
    }
   ],
   "source": [
    "case.show(3, truncate = False, vertical = True)"
   ]
  },
  {
   "cell_type": "markdown",
   "id": "e8f4f7d6-89bc-45a7-a947-4c78392a499e",
   "metadata": {},
   "source": [
    "### 7. Join the case data with the source and department data."
   ]
  },
  {
   "cell_type": "code",
   "execution_count": 86,
   "id": "4facf913-c277-4bab-93be-47bbcb4004c2",
   "metadata": {},
   "outputs": [
    {
     "name": "stdout",
     "output_type": "stream",
     "text": [
      "+---------------+----------------+----------------------+-------------------+\n",
      "|  dept_division|       dept_name|standardized_dept_name|dept_subject_to_SLA|\n",
      "+---------------+----------------+----------------------+-------------------+\n",
      "|311 Call Center|Customer Service|      Customer Service|                YES|\n",
      "+---------------+----------------+----------------------+-------------------+\n",
      "only showing top 1 row\n",
      "\n"
     ]
    }
   ],
   "source": [
    "# only need to keep 'standardized dept_name' when we join\n",
    "dept.show(1)"
   ]
  },
  {
   "cell_type": "code",
   "execution_count": 54,
   "id": "a6b97a96-ce9e-4a40-8fb5-728ecb578582",
   "metadata": {},
   "outputs": [],
   "source": [
    "# join the df and dept dataframe using 'dept_division' for the key\n",
    "# keep only standardized_dept_name\n",
    "# convert dept_subject_to_SLA to boolean\n",
    "\n",
    "df = (\n",
    "    case\n",
    "    # do a left join keeping everything in the case dataframe\n",
    "    .join(dept, \"dept_division\", \"left\")\n",
    "    # drop deptartment columns we don't need\n",
    "    .drop(dept.dept_division)\n",
    "    .drop(dept.dept_name)\n",
    "    .drop(case.dept_division)\n",
    "    .withColumnRenamed(\"standardized_dept_name\", \"department\")\n",
    "    # convert to a boolean\n",
    "    .withColumn(\"dept_subject_to_SLA\", col(\"dept_subject_to_SLA\") == \"YES\")\n",
    ")"
   ]
  },
  {
   "cell_type": "code",
   "execution_count": 110,
   "id": "45412f92-522f-4274-92ce-ea6a8f3fb177",
   "metadata": {},
   "outputs": [
    {
     "name": "stdout",
     "output_type": "stream",
     "text": [
      "+---------+----------------+\n",
      "|source_id| source_username|\n",
      "+---------+----------------+\n",
      "|   100137|Merlene Blodgett|\n",
      "+---------+----------------+\n",
      "only showing top 1 row\n",
      "\n"
     ]
    }
   ],
   "source": [
    "source.show(1)"
   ]
  },
  {
   "cell_type": "code",
   "execution_count": 111,
   "id": "11324a6e-4840-40a3-b9ea-b844ac8d3836",
   "metadata": {},
   "outputs": [],
   "source": [
    "# join source table\n",
    "df = df.join(source, on = df.source_id== source.source_id).drop(source.source_id)"
   ]
  },
  {
   "cell_type": "code",
   "execution_count": 112,
   "id": "fdce5a4a-4784-428d-bbd0-bfb6a2964ca9",
   "metadata": {},
   "outputs": [
    {
     "name": "stdout",
     "output_type": "stream",
     "text": [
      "-RECORD 0----------------------------------------------------\n",
      " case_id              | 1014127332                           \n",
      " case_opened_date     | 2018-01-01 00:42:00                  \n",
      " case_closed_date     | 2018-01-01 12:29:00                  \n",
      " case_due_date        | 2020-09-26 00:42:00                  \n",
      " case_late            | false                                \n",
      " num_days_late        | -998.5087616000001                   \n",
      " case_closed          | true                                 \n",
      " service_request_type | Stray Animal                         \n",
      " SLA_days             | 999.0                                \n",
      " case_status          | Closed                               \n",
      " source_id            | svcCRMLS                             \n",
      " request_address      | 2315  el paso st, san antonio, 78207 \n",
      " council_district     | 005                                  \n",
      " zipcode              | 78207                                \n",
      " case_age             | 1313                                 \n",
      " days_to_closed       | 0                                    \n",
      " case_lifetime        | 0                                    \n",
      " num_hours_late       | -23964.2102784                       \n",
      " department           | Animal Care Services                 \n",
      " dept_subject_to_SLA  | true                                 \n",
      " source_username      | svcCRMLS                             \n",
      "-RECORD 1----------------------------------------------------\n",
      " case_id              | 1014127333                           \n",
      " case_opened_date     | 2018-01-01 00:46:00                  \n",
      " case_closed_date     | 2018-01-03 08:11:00                  \n",
      " case_due_date        | 2018-01-05 08:30:00                  \n",
      " case_late            | false                                \n",
      " num_days_late        | -2.0126041669999997                  \n",
      " case_closed          | true                                 \n",
      " service_request_type | Removal Of Obstruction               \n",
      " SLA_days             | 4.322222222                          \n",
      " case_status          | Closed                               \n",
      " source_id            | svcCRMSS                             \n",
      " request_address      | 2215  goliad rd, san antonio, 78223  \n",
      " council_district     | 003                                  \n",
      " zipcode              | 78223                                \n",
      " case_age             | 1313                                 \n",
      " days_to_closed       | 2                                    \n",
      " case_lifetime        | 2                                    \n",
      " num_hours_late       | -48.302500007999996                  \n",
      " department           | Trans & Cap Improvements             \n",
      " dept_subject_to_SLA  | true                                 \n",
      " source_username      | svcCRMSS                             \n",
      "only showing top 2 rows\n",
      "\n"
     ]
    }
   ],
   "source": [
    "df.show(2, truncate = False, vertical = True)"
   ]
  },
  {
   "cell_type": "markdown",
   "id": "24926260-d064-4a69-8513-5cd895873e0c",
   "metadata": {},
   "source": [
    "### 8. Are there any cases that do not have a request source?\n",
    "- 0\n",
    "- tried different methods of sorting to see if there were any empty values, null values, or ones with a string that said null"
   ]
  },
  {
   "cell_type": "code",
   "execution_count": 56,
   "id": "af7af00d-6dfa-4a14-aa9a-c1924968b67f",
   "metadata": {},
   "outputs": [
    {
     "name": "stdout",
     "output_type": "stream",
     "text": [
      "+---------+------+\n",
      "|source_id| count|\n",
      "+---------+------+\n",
      "|  yh24110|    21|\n",
      "|  yc16753| 15080|\n",
      "|  vk26526|     6|\n",
      "|  vb22265|  2021|\n",
      "|  ts15690|   146|\n",
      "|  sw26367|    95|\n",
      "| svcCRMSS|113585|\n",
      "| svcCRMLS| 18445|\n",
      "| svcCFlag|   673|\n",
      "|  sv24848|   492|\n",
      "|  ss26317|     5|\n",
      "|  ss21394| 15607|\n",
      "|  ss09159| 13076|\n",
      "|  sp26368|   124|\n",
      "|  sg26196|     2|\n",
      "|  sg22264|  1841|\n",
      "|  ru26699|    45|\n",
      "|  rs16746| 11111|\n",
      "|  rb05270|   437|\n",
      "|  ps01944|   213|\n",
      "|  ns16326| 17234|\n",
      "|  np26458|    18|\n",
      "|  mt26294|    64|\n",
      "|  mt23152|  7452|\n",
      "|  mt13131| 19570|\n",
      "|  mp26640|    93|\n",
      "|  mp21218| 15817|\n",
      "|  mg26820|    19|\n",
      "|  me05816| 19840|\n",
      "|  mc21309| 15747|\n",
      "|  ls26247|    17|\n",
      "|  lg26383|     9|\n",
      "|  ld04403|   226|\n",
      "|  lb24838|     1|\n",
      "|  lb07325|     3|\n",
      "|  jw10936| 15088|\n",
      "|  js26451|     3|\n",
      "|  js12254|    99|\n",
      "|  jg06389|    42|\n",
      "|  ih24384|    33|\n",
      "|  gp20685| 17556|\n",
      "|  gg14829|    78|\n",
      "|  gg02947|     2|\n",
      "|  em25724|    70|\n",
      "|  eg16317|   251|\n",
      "|  ec25702|     1|\n",
      "|  dv26072|    45|\n",
      "|  dl09223|    18|\n",
      "|  dl05036| 13481|\n",
      "|  df03076|    17|\n",
      "+---------+------+\n",
      "only showing top 50 rows\n",
      "\n"
     ]
    }
   ],
   "source": [
    "df.groupby('source_id').count().sort(desc('source_id')).show(50)"
   ]
  },
  {
   "cell_type": "markdown",
   "id": "1dca4a88-1fb8-42c3-8d98-93c8ee66f758",
   "metadata": {},
   "source": [
    "### 9. What are the top 10 service request types in terms of number of requests?\n",
    "   - No Pickup                        \n",
    "   - Overgrown Yard/Trash            \n",
    "   - Bandit Signs                    \n",
    "   - Damaged Cart                    \n",
    "   - Front Or Side Yard Parking      \n",
    "   - Stray Animal                    \n",
    "   - Aggressive Animal(Non-Critical) \n",
    "   - Cart Exchange Request           \n",
    "   - Junk Vehicle On Private Property\n",
    "   - Pot Hole Repair                 "
   ]
  },
  {
   "cell_type": "code",
   "execution_count": 58,
   "id": "6934932d-ec32-4061-9ffd-95e249ab8aef",
   "metadata": {},
   "outputs": [
    {
     "name": "stdout",
     "output_type": "stream",
     "text": [
      "+--------------------------------+-----+\n",
      "|service_request_type            |count|\n",
      "+--------------------------------+-----+\n",
      "|No Pickup                       |86855|\n",
      "|Overgrown Yard/Trash            |65895|\n",
      "|Bandit Signs                    |32910|\n",
      "|Damaged Cart                    |30338|\n",
      "|Front Or Side Yard Parking      |28794|\n",
      "|Stray Animal                    |26760|\n",
      "|Aggressive Animal(Non-Critical) |24882|\n",
      "|Cart Exchange Request           |22024|\n",
      "|Junk Vehicle On Private Property|21473|\n",
      "|Pot Hole Repair                 |20616|\n",
      "+--------------------------------+-----+\n",
      "only showing top 10 rows\n",
      "\n"
     ]
    }
   ],
   "source": [
    "df.groupBy('service_request_type').count().sort(desc('count')).show(10, truncate=False)"
   ]
  },
  {
   "cell_type": "markdown",
   "id": "3c649b0f-5cf8-443f-b5b2-3bf32be07eed",
   "metadata": {},
   "source": [
    "### 10. What are the top 10 service request types in terms of average days late?\n",
    "- Zoning: Recycle Yard                  \n",
    "- Zoning: Junk Yards                    \n",
    "- Structure/Housing Maintenance         \n",
    "- Donation Container Enforcement        \n",
    "- Storage of Used Mattress              \n",
    "- Labeling for Used Mattress            \n",
    "- Record Keeping of Used Mattresses     \n",
    "- Signage Requied for Sale of Used Mattr\n",
    "- Traffic Signal Graffiti               \n",
    "- License Requied Used Mattress Sales   \n"
   ]
  },
  {
   "cell_type": "code",
   "execution_count": 71,
   "id": "d6146f42-d1c6-458f-859a-ecf6d226d9ba",
   "metadata": {},
   "outputs": [
    {
     "name": "stdout",
     "output_type": "stream",
     "text": [
      "+--------------------------------------+------------------+\n",
      "|service_request_type                  |avg_days_late     |\n",
      "+--------------------------------------+------------------+\n",
      "|Zoning: Recycle Yard                  |210.89201994318182|\n",
      "|Zoning: Junk Yards                    |200.20517608494276|\n",
      "|Structure/Housing Maintenance         |190.20707698509807|\n",
      "|Donation Container Enforcement        |171.09115313942615|\n",
      "|Storage of Used Mattress              |163.96812829714287|\n",
      "|Labeling for Used Mattress            |162.43032902285717|\n",
      "|Record Keeping of Used Mattresses     |153.99724039428568|\n",
      "|Signage Requied for Sale of Used Mattr|151.63868055333333|\n",
      "|Traffic Signal Graffiti               |137.64583330000002|\n",
      "|License Requied Used Mattress Sales   |128.79828704142858|\n",
      "+--------------------------------------+------------------+\n",
      "only showing top 10 rows\n",
      "\n"
     ]
    }
   ],
   "source": [
    "# group by service type request, \n",
    "df.filter(col('case_late') == 'true')\\\n",
    ".groupBy('service_request_type').agg(mean('num_days_late').alias('avg_days_late')).sort(desc('avg_days_late')).show(10, truncate=False)"
   ]
  },
  {
   "cell_type": "markdown",
   "id": "b981817f-4755-4d3e-8109-20a1dba36b4c",
   "metadata": {},
   "source": [
    "### 11. Does number of days late depend on department?\n",
    "- yes customer service has a much higher average days late than the other departments.\n",
    "- This could be because it is a catchall department and most things go there."
   ]
  },
  {
   "cell_type": "code",
   "execution_count": 81,
   "id": "073e973b-ad67-473e-84ea-5237f05bff34",
   "metadata": {},
   "outputs": [
    {
     "name": "stdout",
     "output_type": "stream",
     "text": [
      "+------------------------+-------------+\n",
      "|department              |avg_days_late|\n",
      "+------------------------+-------------+\n",
      "|Customer Service        |87.68        |\n",
      "|DSD/Code Enforcement    |49.38        |\n",
      "|Animal Care Services    |23.46        |\n",
      "|Parks & Recreation      |22.35        |\n",
      "|Trans & Cap Improvements|10.6         |\n",
      "|Solid Waste             |7.19         |\n",
      "|Metro Health            |6.54         |\n",
      "+------------------------+-------------+\n",
      "\n"
     ]
    }
   ],
   "source": [
    "df.filter(col('case_late') == 'true')\\\n",
    ".groupby('department').agg(round(mean('num_days_late'),2).alias('avg_days_late'))\\\n",
    ".sort(desc('avg_days_late')).show(truncate = False)"
   ]
  },
  {
   "cell_type": "markdown",
   "id": "a02a1390-c858-4ecb-a379-b09746948c22",
   "metadata": {},
   "source": [
    "### 12. How do number of days late depend on department and request type?\n",
    "- Even though you might expect customer service to have the highest avg days late when sorted by department and service request type, it doesn't. It is behind many other service request types from other departments. When customer service type does show up it's with teh service request type 'complaint.' The average is pretty close the same as well, 87.74. I believe this might be a catch all for general complaints. There are only two different request types in this category. Complaints and Compliments\n",
    "- The variance in the different types of service request types for the DSD/Code Enforcement seems like that is what's bringing the overall average late days down. There are over 100 different service request types in this department"
   ]
  },
  {
   "cell_type": "code",
   "execution_count": 90,
   "id": "43a2ec84-e823-4019-ad70-1e8036ea07bc",
   "metadata": {},
   "outputs": [
    {
     "name": "stdout",
     "output_type": "stream",
     "text": [
      "+------------------------+----------------------------------------+-------------+\n",
      "|department              |service_request_type                    |avg_days_late|\n",
      "+------------------------+----------------------------------------+-------------+\n",
      "|DSD/Code Enforcement    |Zoning: Recycle Yard                    |210.89       |\n",
      "|DSD/Code Enforcement    |Zoning: Junk Yards                      |200.21       |\n",
      "|DSD/Code Enforcement    |Structure/Housing Maintenance           |190.21       |\n",
      "|DSD/Code Enforcement    |Donation Container Enforcement          |171.09       |\n",
      "|DSD/Code Enforcement    |Storage of Used Mattress                |163.97       |\n",
      "|DSD/Code Enforcement    |Labeling for Used Mattress              |162.43       |\n",
      "|DSD/Code Enforcement    |Record Keeping of Used Mattresses       |154.0        |\n",
      "|DSD/Code Enforcement    |Signage Requied for Sale of Used Mattr  |151.64       |\n",
      "|Trans & Cap Improvements|Traffic Signal Graffiti                 |137.65       |\n",
      "|DSD/Code Enforcement    |License Requied Used Mattress Sales     |128.8        |\n",
      "|DSD/Code Enforcement    |Curbstoning                             |120.4        |\n",
      "|DSD/Code Enforcement    |Vendors                                 |117.73       |\n",
      "|DSD/Code Enforcement    |CPS Energy Wood Poles                   |115.19       |\n",
      "|DSD/Code Enforcement    |Graffiti: Private Property (Corridors)  |114.09       |\n",
      "|DSD/Code Enforcement    |Used Mattress Inspection                |108.14       |\n",
      "|DSD/Code Enforcement    |DSDB Ordered/Hold Harmless/Regular: Main|94.9         |\n",
      "|DSD/Code Enforcement    |DSDB Ordered/Hold Harmless/Regular-ALL  |90.6         |\n",
      "|DSD/Code Enforcement    |DSDB Ordered/Hold Harmless/Regular: ASEC|88.68        |\n",
      "|Customer Service        |Complaint                               |87.74        |\n",
      "|DSD/Code Enforcement    |Zoning: Setbacks                        |86.73        |\n",
      "|DSD/Code Enforcement    |Dart Preliminary Inspection             |85.06        |\n",
      "|DSD/Code Enforcement    |Vacant Lot: Over 12\"\"                   |82.09        |\n",
      "|DSD/Code Enforcement    |Permits Building                        |81.08        |\n",
      "|DSD/Code Enforcement    |Street Light New Development            |80.92        |\n",
      "|DSD/Code Enforcement    |No Address Posted                       |79.49        |\n",
      "+------------------------+----------------------------------------+-------------+\n",
      "only showing top 25 rows\n",
      "\n"
     ]
    }
   ],
   "source": [
    "(\n",
    "    # Filter by if the case is late\n",
    "    df.filter(col('case_late') == 'true') \n",
    "\n",
    "    # group by department and service request type\n",
    "    .groupby('department', 'service_request_type')\n",
    "    \n",
    "    # get average of the number of days late column, and round \n",
    "    .agg(round(mean('num_days_late'),2).alias('avg_days_late'))\n",
    "    \n",
    "    # sort by descending average days late\n",
    "    .sort(desc('avg_days_late')).show(25, truncate = False)\n",
    ")"
   ]
  },
  {
   "cell_type": "code",
   "execution_count": 100,
   "id": "bf33e442-f221-4d6b-8a77-44b4fb7a1fb5",
   "metadata": {},
   "outputs": [
    {
     "name": "stdout",
     "output_type": "stream",
     "text": [
      "+--------------------+-----+\n",
      "|service_request_type|count|\n",
      "+--------------------+-----+\n",
      "|Complaint           |2388 |\n",
      "|Compliment          |461  |\n",
      "+--------------------+-----+\n",
      "\n"
     ]
    }
   ],
   "source": [
    "(df[df.department == 'Customer Service'].groupby('service_request_type').count().sort(desc('count')).show(truncate = False)"
   ]
  },
  {
   "cell_type": "markdown",
   "id": "e9897ab3-0063-4215-b972-d221056b2075",
   "metadata": {},
   "source": [
    "Notice how many different types of service requests there are. \n",
    "\n",
    "Notice the range of average days late on the service request types"
   ]
  },
  {
   "cell_type": "code",
   "execution_count": 105,
   "id": "d6578481-beac-4979-89ff-df33724760bc",
   "metadata": {},
   "outputs": [
    {
     "name": "stdout",
     "output_type": "stream",
     "text": [
      "+--------------------------------------------+-------------+-----+\n",
      "|service_request_type                        |avg_days_late|count|\n",
      "+--------------------------------------------+-------------+-----+\n",
      "|Zoning: Recycle Yard                        |210.89       |132  |\n",
      "|Zoning: Junk Yards                          |200.21       |262  |\n",
      "|Structure/Housing Maintenance               |190.21       |51   |\n",
      "|Donation Container Enforcement              |171.09       |122  |\n",
      "|Storage of Used Mattress                    |163.97       |7    |\n",
      "|Labeling for Used Mattress                  |162.43       |7    |\n",
      "|Record Keeping of Used Mattresses           |154.0        |7    |\n",
      "|Signage Requied for Sale of Used Mattr      |151.64       |12   |\n",
      "|License Requied Used Mattress Sales         |128.8        |7    |\n",
      "|Curbstoning                                 |120.4        |123  |\n",
      "|Vendors                                     |117.73       |131  |\n",
      "|CPS Energy Wood Poles                       |115.19       |1    |\n",
      "|Graffiti: Private Property (Corridors)      |114.09       |5    |\n",
      "|Used Mattress Inspection                    |108.14       |16   |\n",
      "|DSDB Ordered/Hold Harmless/Regular: Main    |94.9         |145  |\n",
      "|DSDB Ordered/Hold Harmless/Regular-ALL      |90.6         |115  |\n",
      "|DSDB Ordered/Hold Harmless/Regular: ASEC    |88.68        |74   |\n",
      "|Zoning: Setbacks                            |86.73        |109  |\n",
      "|Dart Preliminary Inspection                 |85.06        |21   |\n",
      "|Vacant Lot: Over 12\"\"                       |82.09        |1    |\n",
      "|Permits Building                            |81.08        |2129 |\n",
      "|Street Light New Development                |80.92        |27   |\n",
      "|No Address Posted                           |79.49        |955  |\n",
      "|Low Hanging Limbs on Streets/Sidewalk       |78.07        |20   |\n",
      "|Certificates of Occupancy                   |77.63        |174  |\n",
      "|Wasting Water (Leaks)                       |76.36        |5    |\n",
      "|Dumpsters: Maintenance/Sanitation           |74.16        |41   |\n",
      "|\"Vacant Lot-State (12\"\")\"                   |72.08        |2    |\n",
      "|Zoning: District Requirement                |70.61        |410  |\n",
      "|Bandit Signs                                |70.56        |3779 |\n",
      "|Used/Scrap Tire Facility Periodic Inspection|69.78        |37   |\n",
      "|Discharge Into Pub. Waters/St               |69.26        |1    |\n",
      "|Improper Storage of Tires/At Facility       |69.22        |16   |\n",
      "|Zoning: Outside Storage                     |68.61        |19   |\n",
      "|Street Light Existing Res Sub Div           |66.85        |797  |\n",
      "|Zoning: Multi-Family In Single              |66.81        |51   |\n",
      "|Zoning Business in Resident Area            |63.99        |113  |\n",
      "|Water No Services                           |59.51        |14   |\n",
      "|Minimum Housing-Owner Occupied              |57.92        |225  |\n",
      "|Boarding Home Inspection                    |57.84        |55   |\n",
      "|Graffiti-Private Property                   |56.98        |6    |\n",
      "|Historical Building (No Permits)            |56.75        |8    |\n",
      "|Dang Premises/Secure Only                   |55.73        |16   |\n",
      "|Zoning: Visual Obstruction                  |55.6         |43   |\n",
      "|Junk Vehicle On Private Property            |53.63        |1691 |\n",
      "|Graffiti: Vacant (Commercial)               |52.59        |3    |\n",
      "|Junk Vehicle - Wrecked or Dismantled        |52.09        |41   |\n",
      "|Zoning: Mobile Homes                        |49.17        |40   |\n",
      "|Minimum Housing-Tenant Occupied             |48.44        |190  |\n",
      "|Overgrown Yard/Trash                        |44.86        |2467 |\n",
      "|Used/Scrap Tire Facility License Pending    |43.91        |22   |\n",
      "|Brush Violations                            |43.88        |106  |\n",
      "|Permits, Fences                             |42.73        |268  |\n",
      "|Zoning: Illumination                        |41.77        |10   |\n",
      "|Whole Scrap Tires Not Marked                |41.56        |5    |\n",
      "|Emergency: Main and Accessory Structures    |41.48        |16   |\n",
      "|Dang. Premises/CL/SEC                       |41.25        |392  |\n",
      "|Alley-Way Maintenance                       |40.14        |386  |\n",
      "|\"Vacant Lot-City (12\"\")\"                    |39.76        |20   |\n",
      "|Lot-Private (1000)                          |38.88        |16   |\n",
      "|\"Vacant Lot-Private (12\"\")\"                 |38.18        |358  |\n",
      "|\"Vacant Lot-County (12\"\")\"                  |37.7         |5    |\n",
      "|Pooled Water (Mosquito Breed)               |37.37        |14   |\n",
      "|Sewer Line Broken                           |34.05        |40   |\n",
      "|Vacant Lot: Within 1000 School/Day Care     |34.01        |1    |\n",
      "|Dead Trees: Private Property                |32.42        |29   |\n",
      "|Vacant House Overgrown Yard                 |32.37        |200  |\n",
      "|Vacant Lot/Overgrown/Trash                  |32.23        |221  |\n",
      "|\"Vacant Lot-City (48\"\")\"                    |30.87        |8    |\n",
      "|Improper Rec Keeping-Used/Scrap Tire Fac    |30.45        |7    |\n",
      "|Swim. Pool Inspect: Residential             |29.53        |6    |\n",
      "|Dang Premises/Cut/Clean Only                |29.16        |13   |\n",
      "|Zoning: Oversized Vehicles                  |27.57        |311  |\n",
      "|Graffiti: Sidewalk                          |26.11        |17   |\n",
      "|Graffiti: Building                          |24.68        |405  |\n",
      "|\"Vacant Lot-County (48\"\")\"                  |24.04        |1    |\n",
      "|Graffiti: Traffic Control Box               |23.82        |96   |\n",
      "|\"Vacant Lot-Private (48\"\")\"                 |22.8         |57   |\n",
      "|Emergency: Main Structure Only              |22.41        |24   |\n",
      "|Emergency: Accessory Structure Only         |21.57        |5    |\n",
      "|Graffiti: Fence                             |20.53        |135  |\n",
      "|Basketball Goals on R.O.W.                  |20.01        |271  |\n",
      "|Graffiti: Drainage Channel                  |19.97        |107  |\n",
      "|Multi Tenant Interior                       |19.76        |2    |\n",
      "|Graffiti: Retaining Wall                    |19.31        |177  |\n",
      "|Garage Sales No Permit                      |19.04        |207  |\n",
      "|Solid Waste Insp: Dead Animals              |16.53        |26   |\n",
      "|Graffiti: Curb                              |16.16        |14   |\n",
      "|Right Of Way/Sidewalk Obstruction           |16.01        |2682 |\n",
      "|Graffiti Public Property                    |15.66        |185  |\n",
      "|Front Or Side Yard Parking                  |14.16        |3952 |\n",
      "|Alley Address Required                      |11.83        |1    |\n",
      "|Vehicle Blocking                            |11.67        |624  |\n",
      "|Dumpsters: City R.O.W.                      |10.19        |46   |\n",
      "|Fly Breeding and Animal Waste Disposal      |7.04         |3    |\n",
      "|Absentee Property Assessment-Posting        |5.29         |10   |\n",
      "|\"Vacant Lot-State (48\"\")\"                   |4.02         |1    |\n",
      "|Graffiti: Guardrail                         |3.24         |7    |\n",
      "|Wasting Water (General)                     |2.78         |1    |\n",
      "|Graffiti: Traffic Signal Pole               |0.24         |2    |\n",
      "+--------------------------------------------+-------------+-----+\n",
      "\n"
     ]
    }
   ],
   "source": [
    "(\n",
    "    # get all entries in code enforcement\n",
    "    df[df.department == 'DSD/Code Enforcement']\n",
    "    \n",
    "    # filter for if the case is late\n",
    "    .filter(col('case_late') == 'true')\n",
    "    .groupby('service_request_type')\n",
    "    \n",
    "    # get the avg days late and count of service types\n",
    "    .agg(round(mean('num_days_late'),2).alias('avg_days_late'), count('service_request_type').alias('count'))\n",
    "    \n",
    "    # sort by avg days late \n",
    "    .sort(desc('avg_days_late'))\n",
    "    .show(125, truncate = False)\n",
    "\n",
    ")"
   ]
  },
  {
   "cell_type": "code",
   "execution_count": null,
   "id": "1db18c97-e7e5-42f1-8354-255d2516b5c1",
   "metadata": {},
   "outputs": [],
   "source": []
  }
 ],
 "metadata": {
  "kernelspec": {
   "display_name": "Python 3",
   "language": "python",
   "name": "python3"
  },
  "language_info": {
   "codemirror_mode": {
    "name": "ipython",
    "version": 3
   },
   "file_extension": ".py",
   "mimetype": "text/x-python",
   "name": "python",
   "nbconvert_exporter": "python",
   "pygments_lexer": "ipython3",
   "version": "3.8.8"
  }
 },
 "nbformat": 4,
 "nbformat_minor": 5
}
