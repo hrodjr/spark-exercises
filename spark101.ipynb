{
 "cells": [
  {
   "cell_type": "code",
   "execution_count": 151,
   "id": "65e6d9e4-d718-452d-9a7c-cd5396a75df1",
   "metadata": {},
   "outputs": [],
   "source": [
    "#Library\n",
    "import pyspark\n",
    "spark = pyspark.sql.SparkSession.builder.getOrCreate()\n",
    "\n",
    "from pyspark.sql.functions import col, expr\n",
    "from pyspark.sql.functions import concat, sum, avg, min, max, count, mean\n",
    "from pyspark.sql.functions import lit\n",
    "from pyspark.sql.functions import when\n",
    "from pyspark.sql.functions import asc, desc\n",
    "#for question 2\n",
    "from pydataset import data\n",
    "\n",
    "from pyspark.sql.functions import regexp_extract, regexp_replace\n",
    "#for question 4\n",
    "from vega_datasets import data\n",
    "from pyspark.sql.functions import month, year, quarter"
   ]
  },
  {
   "cell_type": "code",
   "execution_count": 14,
   "id": "2a0087bd-25d0-4db3-9b2e-986d7971a3d0",
   "metadata": {},
   "outputs": [
    {
     "name": "stdout",
     "output_type": "stream",
     "text": [
      "+--------+--------+\n",
      "|langauge|favorite|\n",
      "+--------+--------+\n",
      "|  python|       1|\n",
      "|   spark|       2|\n",
      "|     sql|       3|\n",
      "+--------+--------+\n",
      "\n"
     ]
    }
   ],
   "source": [
    "#1. Create a spark data frame that contains your favorite programming languages.\n",
    "    #- The name of the column should be language\n",
    "    #- View the schema of the dataframe\n",
    "    #- Output the shape of the dataframe\n",
    "    #- Show the first 5 records in the dataframe\n",
    "import pandas as pd\n",
    "import numpy as np\n",
    "\n",
    "data = {'langauge':['python', 'spark', 'sql'], 'favorite':[1, 2, 3]}\n",
    "df = pd.DataFrame(data)\n",
    "df.head()\n",
    "languages = spark.createDataFrame(df)\n",
    "languages.show()"
   ]
  },
  {
   "cell_type": "code",
   "execution_count": 17,
   "id": "885765e5-dc37-40f1-bdb2-1973db781016",
   "metadata": {},
   "outputs": [
    {
     "name": "stdout",
     "output_type": "stream",
     "text": [
      "+------------+-----+-----+----+---+----------+---+---+---+---+-------+\n",
      "|manufacturer|model|displ|year|cyl|     trans|drv|cty|hwy| fl|  class|\n",
      "+------------+-----+-----+----+---+----------+---+---+---+---+-------+\n",
      "|        audi|   a4|  1.8|1999|  4|  auto(l5)|  f| 18| 29|  p|compact|\n",
      "|        audi|   a4|  1.8|1999|  4|manual(m5)|  f| 21| 29|  p|compact|\n",
      "|        audi|   a4|  2.0|2008|  4|manual(m6)|  f| 20| 31|  p|compact|\n",
      "|        audi|   a4|  2.0|2008|  4|  auto(av)|  f| 21| 30|  p|compact|\n",
      "|        audi|   a4|  2.8|1999|  6|  auto(l5)|  f| 16| 26|  p|compact|\n",
      "+------------+-----+-----+----+---+----------+---+---+---+---+-------+\n",
      "only showing top 5 rows\n",
      "\n"
     ]
    }
   ],
   "source": [
    "#2. Load the mpg dataset as a spark dataframe.\n",
    "mpg = spark.createDataFrame(data(\"mpg\"))\n",
    "mpg.show(5)"
   ]
  },
  {
   "cell_type": "code",
   "execution_count": 45,
   "id": "24e4424a-35af-4673-b67d-d0074e716677",
   "metadata": {},
   "outputs": [
    {
     "name": "stdout",
     "output_type": "stream",
     "text": [
      "+-----------------------------------------+\n",
      "|vehicle description                      |\n",
      "+-----------------------------------------+\n",
      "|The 1999 audi a4 has a 4 cylinder engine.|\n",
      "|The 1999 audi a4 has a 4 cylinder engine.|\n",
      "|The 2008 audi a4 has a 4 cylinder engine.|\n",
      "|The 2008 audi a4 has a 4 cylinder engine.|\n",
      "|The 1999 audi a4 has a 6 cylinder engine.|\n",
      "+-----------------------------------------+\n",
      "only showing top 5 rows\n",
      "\n"
     ]
    }
   ],
   "source": [
    "#2.a. Create 1 column of output that contains a message like the one below, for each vehicle:\n",
    "    # - The 1999 audi a4 has a 4 cylinder engine.\n",
    "#year, manufacturer, model, cyl,\n",
    "\n",
    "mpg.select(concat(lit('The '), mpg.year, lit(' '), mpg.manufacturer,\n",
    "                 lit(' '), mpg.model, lit(' has a '), mpg.cyl, \n",
    "                 lit(' cylinder engine.')).alias('vehicle description')\n",
    "          ).show(5, truncate = False)\n",
    "    "
   ]
  },
  {
   "cell_type": "code",
   "execution_count": 51,
   "id": "4e05661c-dc83-4c48-8137-3c73152771af",
   "metadata": {},
   "outputs": [
    {
     "name": "stdout",
     "output_type": "stream",
     "text": [
      "+------------+------------------+-----+----+---+--------+---+---+---+---+-------+\n",
      "|manufacturer|             model|displ|year|cyl|   trans|drv|cty|hwy| fl|  class|\n",
      "+------------+------------------+-----+----+---+--------+---+---+---+---+-------+\n",
      "|        audi|                a4|  1.8|1999|  4|auto(l5)|  f| 18| 29|  p|compact|\n",
      "|        audi|                a4|  2.0|2008|  4|auto(av)|  f| 21| 30|  p|compact|\n",
      "|        audi|                a4|  2.8|1999|  6|auto(l5)|  f| 16| 26|  p|compact|\n",
      "|        audi|                a4|  3.1|2008|  6|auto(av)|  f| 18| 27|  p|compact|\n",
      "|        audi|        a4 quattro|  1.8|1999|  4|auto(l5)|  4| 16| 25|  p|compact|\n",
      "|        audi|        a4 quattro|  2.0|2008|  4|auto(s6)|  4| 19| 27|  p|compact|\n",
      "|        audi|        a4 quattro|  2.8|1999|  6|auto(l5)|  4| 15| 25|  p|compact|\n",
      "|        audi|        a4 quattro|  3.1|2008|  6|auto(s6)|  4| 17| 25|  p|compact|\n",
      "|        audi|        a6 quattro|  2.8|1999|  6|auto(l5)|  4| 15| 24|  p|midsize|\n",
      "|        audi|        a6 quattro|  3.1|2008|  6|auto(s6)|  4| 17| 25|  p|midsize|\n",
      "|        audi|        a6 quattro|  4.2|2008|  8|auto(s6)|  4| 16| 23|  p|midsize|\n",
      "|   chevrolet|c1500 suburban 2wd|  5.3|2008|  8|auto(l4)|  r| 14| 20|  r|    suv|\n",
      "|   chevrolet|c1500 suburban 2wd|  5.3|2008|  8|auto(l4)|  r| 11| 15|  e|    suv|\n",
      "|   chevrolet|c1500 suburban 2wd|  5.3|2008|  8|auto(l4)|  r| 14| 20|  r|    suv|\n",
      "|   chevrolet|c1500 suburban 2wd|  5.7|1999|  8|auto(l4)|  r| 13| 17|  r|    suv|\n",
      "|   chevrolet|c1500 suburban 2wd|  6.0|2008|  8|auto(l4)|  r| 12| 17|  r|    suv|\n",
      "|   chevrolet|          corvette|  5.7|1999|  8|auto(l4)|  r| 15| 23|  p|2seater|\n",
      "|   chevrolet|          corvette|  6.2|2008|  8|auto(s6)|  r| 15| 25|  p|2seater|\n",
      "|   chevrolet|   k1500 tahoe 4wd|  5.3|2008|  8|auto(l4)|  4| 14| 19|  r|    suv|\n",
      "|   chevrolet|   k1500 tahoe 4wd|  5.3|2008|  8|auto(l4)|  4| 11| 14|  e|    suv|\n",
      "+------------+------------------+-----+----+---+--------+---+---+---+---+-------+\n",
      "only showing top 20 rows\n",
      "\n"
     ]
    }
   ],
   "source": [
    "#2.b. Transform the trans column so that it only contains either manual or auto.\n",
    "mpg.filter(mpg.trans.contains('auto')).show()"
   ]
  },
  {
   "cell_type": "code",
   "execution_count": 52,
   "id": "24613b03-1d86-4933-b4cb-c43d110799d7",
   "metadata": {},
   "outputs": [
    {
     "name": "stdout",
     "output_type": "stream",
     "text": [
      "+----------+----+------+------+---+------+----+\n",
      "|total_bill| tip|   sex|smoker|day|  time|size|\n",
      "+----------+----+------+------+---+------+----+\n",
      "|     16.99|1.01|Female|    No|Sun|Dinner|   2|\n",
      "|     10.34|1.66|  Male|    No|Sun|Dinner|   3|\n",
      "|     21.01| 3.5|  Male|    No|Sun|Dinner|   3|\n",
      "|     23.68|3.31|  Male|    No|Sun|Dinner|   2|\n",
      "|     24.59|3.61|Female|    No|Sun|Dinner|   4|\n",
      "+----------+----+------+------+---+------+----+\n",
      "only showing top 5 rows\n",
      "\n"
     ]
    }
   ],
   "source": [
    "#3. Load the tips dataset as a spark dataframe.\n",
    "tips = spark.createDataFrame(data(\"tips\"))\n",
    "tips.show(5)"
   ]
  },
  {
   "cell_type": "code",
   "execution_count": 122,
   "id": "b4c699c1-c773-4683-adff-c7c393a32f12",
   "metadata": {},
   "outputs": [
    {
     "data": {
      "text/plain": [
       "61.885245901639344"
      ]
     },
     "execution_count": 122,
     "metadata": {},
     "output_type": "execute_result"
    }
   ],
   "source": [
    "#3.a. What percentage of observations are smokers?\n",
    "#no/total smokers\n",
    "tips.filter(tips.smoker == 'No').count()/tips.count()*100"
   ]
  },
  {
   "cell_type": "code",
   "execution_count": 142,
   "id": "454f100b-d599-4325-a62e-7d0a3862c0a1",
   "metadata": {},
   "outputs": [
    {
     "name": "stdout",
     "output_type": "stream",
     "text": [
      "+------------------+\n",
      "|    tip_percentage|\n",
      "+------------------+\n",
      "|5.9446733372572105|\n",
      "|16.054158607350097|\n",
      "|16.658733936220845|\n",
      "| 13.97804054054054|\n",
      "|14.680764538430255|\n",
      "| 18.62396204033215|\n",
      "| 22.80501710376283|\n",
      "|11.607142857142858|\n",
      "|13.031914893617023|\n",
      "|21.853856562922868|\n",
      "| 16.65043816942551|\n",
      "|14.180374361883155|\n",
      "|10.181582360570687|\n",
      "|16.277807921866522|\n",
      "|20.364126770060686|\n",
      "|18.164967562557923|\n",
      "| 16.16650532429816|\n",
      "|22.774708410067525|\n",
      "|20.624631703005306|\n",
      "|16.222760290556902|\n",
      "+------------------+\n",
      "only showing top 20 rows\n",
      "\n"
     ]
    }
   ],
   "source": [
    "#3.b. Create a column that contains the tip percentage\n",
    "tip_percentage = tips.select(((tips.tip/tips.total_bill)*100).alias('tip_percentage')).show()"
   ]
  },
  {
   "cell_type": "code",
   "execution_count": 147,
   "id": "1a386f6a-5b7e-4bf2-9af9-eb70f3e6835b",
   "metadata": {},
   "outputs": [
    {
     "name": "stdout",
     "output_type": "stream",
     "text": [
      "+------+------------------+\n",
      "|   sex| avg_tip_by_gender|\n",
      "+------+------------------+\n",
      "|Female|16.649073632892478|\n",
      "|  Male|15.765054700429744|\n",
      "+------+------------------+\n",
      "\n"
     ]
    }
   ],
   "source": [
    "#3.c. Calculate the average tip percentage for each combination of sex and smoker.\n",
    "tips.groupBy('sex').agg(mean((tips.tip/tips.total_bill)*100).alias('avg_tip_by_gender')).show()"
   ]
  },
  {
   "cell_type": "code",
   "execution_count": 150,
   "id": "048738c7-546f-43c3-b660-8d87df27c4f8",
   "metadata": {},
   "outputs": [
    {
     "name": "stdout",
     "output_type": "stream",
     "text": [
      "+----------+-------------+--------+--------+----+-------+\n",
      "|      date|precipitation|temp_max|temp_min|wind|weather|\n",
      "+----------+-------------+--------+--------+----+-------+\n",
      "|2012-01-01|          0.0|    12.8|     5.0| 4.7|drizzle|\n",
      "|2012-01-02|         10.9|    10.6|     2.8| 4.5|   rain|\n",
      "|2012-01-03|          0.8|    11.7|     7.2| 2.3|   rain|\n",
      "|2012-01-04|         20.3|    12.2|     5.6| 4.7|   rain|\n",
      "|2012-01-05|          1.3|     8.9|     2.8| 6.1|   rain|\n",
      "|2012-01-06|          2.5|     4.4|     2.2| 2.2|   rain|\n",
      "+----------+-------------+--------+--------+----+-------+\n",
      "only showing top 6 rows\n",
      "\n"
     ]
    }
   ],
   "source": [
    "#4. Use the seattle weather dataset referenced in the lesson to answer the questions below.\n",
    "weather = data.seattle_weather().assign(date=lambda df: df.date.astype(str))\n",
    "weather = spark.createDataFrame(weather)\n",
    "weather.show(6)"
   ]
  },
  {
   "cell_type": "code",
   "execution_count": 102,
   "id": "0995076c-c87d-42c4-a200-dd3dc375711e",
   "metadata": {},
   "outputs": [],
   "source": [
    "#Convert the temperatures to fahrenheit.\n",
    "weather = weather.select(weather.temp_max)"
   ]
  },
  {
   "cell_type": "code",
   "execution_count": 103,
   "id": "7cb24f4a-ba9b-40ae-9cce-532d5ab03c0c",
   "metadata": {},
   "outputs": [],
   "source": [
    "#Which month has the most rain, on average?"
   ]
  },
  {
   "cell_type": "code",
   "execution_count": 104,
   "id": "97a0122b-21c1-4cdb-ac67-cb894a7eba33",
   "metadata": {},
   "outputs": [],
   "source": [
    "#Which year was the windiest?"
   ]
  },
  {
   "cell_type": "code",
   "execution_count": 105,
   "id": "2c6ee9f1-1b6c-4962-882e-c59264d80c7d",
   "metadata": {},
   "outputs": [],
   "source": [
    "#What is the most frequent type of weather in January?"
   ]
  },
  {
   "cell_type": "code",
   "execution_count": 106,
   "id": "d03158d0-cb4f-4bc5-8089-6adc1eba7446",
   "metadata": {},
   "outputs": [],
   "source": [
    "#What is the average high and low temperature on sunny days in July in 2013 and 2014?"
   ]
  },
  {
   "cell_type": "code",
   "execution_count": 107,
   "id": "778602b6-e919-455b-96e9-97e5dbe3e12b",
   "metadata": {},
   "outputs": [],
   "source": [
    "#What percentage of days were rainy in q3 of 2015?"
   ]
  },
  {
   "cell_type": "code",
   "execution_count": null,
   "id": "be8cb760-3d08-41a7-a937-da6bc19aabdd",
   "metadata": {},
   "outputs": [],
   "source": [
    "#For each year, find what percentage of days it rained (had non-zero precipitation)."
   ]
  }
 ],
 "metadata": {
  "kernelspec": {
   "display_name": "Python 3",
   "language": "python",
   "name": "python3"
  },
  "language_info": {
   "codemirror_mode": {
    "name": "ipython",
    "version": 3
   },
   "file_extension": ".py",
   "mimetype": "text/x-python",
   "name": "python",
   "nbconvert_exporter": "python",
   "pygments_lexer": "ipython3",
   "version": "3.8.8"
  }
 },
 "nbformat": 4,
 "nbformat_minor": 5
}
